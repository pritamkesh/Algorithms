{
 "cells": [
  {
   "cell_type": "markdown",
   "metadata": {},
   "source": [
    "<h1 style=\"background-color:DodgerBlue;\"> <b> Swap two variables <b> </h1>"
   ]
  },
  {
   "cell_type": "markdown",
   "metadata": {},
   "source": [
    "<p style=\"font-family:courier;\"> Solution 1 : Using third variable </p>"
   ]
  },
  {
   "cell_type": "code",
   "execution_count": 1,
   "metadata": {},
   "outputs": [
    {
     "name": "stdout",
     "output_type": "stream",
     "text": [
      "-------------- Before Swapping ---------------------\n",
      "a is :  10\n",
      "b is :  20\n"
     ]
    }
   ],
   "source": [
    "a = 10\n",
    "b = 20\n",
    "print(\"-------------- Before Swapping ---------------------\")\n",
    "print(\"a is : \", a)\n",
    "print(\"b is : \", b)"
   ]
  },
  {
   "cell_type": "code",
   "execution_count": 2,
   "metadata": {},
   "outputs": [],
   "source": [
    "#Using temp as a third variable.\n",
    "temp = a\n",
    "a = b\n",
    "b = temp"
   ]
  },
  {
   "cell_type": "code",
   "execution_count": 3,
   "metadata": {},
   "outputs": [
    {
     "name": "stdout",
     "output_type": "stream",
     "text": [
      "-------------- After Swapping ---------------------\n",
      "a is :  20\n",
      "b is :  10\n"
     ]
    }
   ],
   "source": [
    "print(\"-------------- After Swapping ---------------------\")\n",
    "print(\"a is : \", a)\n",
    "print(\"b is : \", b)"
   ]
  },
  {
   "cell_type": "markdown",
   "metadata": {},
   "source": [
    "<p style=\"font-family:courier;\"> Solution 2 : Without using third variable </p>"
   ]
  },
  {
   "cell_type": "markdown",
   "metadata": {},
   "source": [
    "<p style=\"text-align:center\"> Approach 1 </p>"
   ]
  },
  {
   "cell_type": "code",
   "execution_count": 4,
   "metadata": {},
   "outputs": [
    {
     "name": "stdout",
     "output_type": "stream",
     "text": [
      "-------------- Before Swapping ---------------------\n",
      "a is :  10\n",
      "b is :  20\n"
     ]
    }
   ],
   "source": [
    "a = 10\n",
    "b = 20\n",
    "print(\"-------------- Before Swapping ---------------------\")\n",
    "print(\"a is : \", a)\n",
    "print(\"b is : \", b)"
   ]
  },
  {
   "cell_type": "code",
   "execution_count": 5,
   "metadata": {},
   "outputs": [
    {
     "name": "stdout",
     "output_type": "stream",
     "text": [
      "-------------- After Swapping ---------------------\n",
      "The value of a is  20\n",
      "The value of b is  10\n"
     ]
    }
   ],
   "source": [
    "\"\"\"\n",
    "Using simple built-in method \n",
    "\n",
    "left , right = right , left \n",
    "\n",
    "This method works for any data type values like string, int, float and is easy to use. \n",
    "\"\"\"\n",
    "a, b = b, a\n",
    "print(\"-------------- After Swapping ---------------------\")\n",
    "print(\"The value of a is \", a)\n",
    "print(\"The value of b is \", b)"
   ]
  },
  {
   "cell_type": "markdown",
   "metadata": {},
   "source": [
    "<p style=\"text-align:center;\"> Approach 2 </p>"
   ]
  },
  {
   "cell_type": "code",
   "execution_count": 6,
   "metadata": {},
   "outputs": [
    {
     "name": "stdout",
     "output_type": "stream",
     "text": [
      "-------------- Before Swapping ---------------------\n",
      "a is :  10\n",
      "b is :  20\n"
     ]
    }
   ],
   "source": [
    "a = 10\n",
    "b = 20\n",
    "print(\"-------------- Before Swapping ---------------------\")\n",
    "print(\"a is : \", a)\n",
    "print(\"b is : \", b)"
   ]
  },
  {
   "cell_type": "code",
   "execution_count": 7,
   "metadata": {},
   "outputs": [
    {
     "name": "stdout",
     "output_type": "stream",
     "text": [
      "-------------- After Swapping ---------------------\n",
      "a is :  20\n",
      "b is :  10\n"
     ]
    }
   ],
   "source": [
    "\"\"\"\n",
    "Using Addition and Subtraction Operators \n",
    "\n",
    "a = a + b\n",
    "b = a - b\n",
    "a = a - b\n",
    "\n",
    "This method works for variables that have numeric values.\n",
    "\"\"\" \n",
    "\n",
    "a = a+b # a = 10 + 20 = 30\n",
    "b = a-b # b = 30 - 20 = 10\n",
    "a = a-b # a = 30 - 10 = 20\n",
    "print(\"-------------- After Swapping ---------------------\")\n",
    "print(\"a is : \", a)\n",
    "print(\"b is : \", b)"
   ]
  },
  {
   "cell_type": "markdown",
   "metadata": {},
   "source": [
    "<p style=\"text-align:center;\"> Approach 3 </p>"
   ]
  },
  {
   "cell_type": "code",
   "execution_count": 8,
   "metadata": {},
   "outputs": [
    {
     "name": "stdout",
     "output_type": "stream",
     "text": [
      "-------------- Before Swapping ---------------------\n",
      "a is :  10\n",
      "b is :  20\n"
     ]
    }
   ],
   "source": [
    "a = 10\n",
    "b = 20\n",
    "print(\"-------------- Before Swapping ---------------------\")\n",
    "print(\"a is : \", a)\n",
    "print(\"b is : \", b)"
   ]
  },
  {
   "cell_type": "code",
   "execution_count": 9,
   "metadata": {},
   "outputs": [
    {
     "name": "stdout",
     "output_type": "stream",
     "text": [
      "-------------- After Swapping ---------------------\n",
      "a is :  20\n",
      "b is :  10\n"
     ]
    }
   ],
   "source": [
    "\"\"\"\n",
    "Using Division and Multiplication Operators \n",
    "\n",
    "a = a * b\n",
    "b = a / b\n",
    "a = a / b\n",
    "\n",
    "This method works for variables that have numeric values other than 0 .\n",
    "\"\"\"\n",
    "a = a * b\n",
    "b = a // b\n",
    "a = a // b\n",
    "print(\"-------------- After Swapping ---------------------\")\n",
    "print(\"a is : \", a)\n",
    "print(\"b is : \", b)"
   ]
  }
 ],
 "metadata": {
  "kernelspec": {
   "display_name": "Python 3",
   "language": "python",
   "name": "python3"
  },
  "language_info": {
   "codemirror_mode": {
    "name": "ipython",
    "version": 3
   },
   "file_extension": ".py",
   "mimetype": "text/x-python",
   "name": "python",
   "nbconvert_exporter": "python",
   "pygments_lexer": "ipython3",
   "version": "3.8.5"
  }
 },
 "nbformat": 4,
 "nbformat_minor": 4
}
